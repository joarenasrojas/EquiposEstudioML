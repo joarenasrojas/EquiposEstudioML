{
 "cells": [
  {
   "cell_type": "markdown",
   "metadata": {},
   "source": [
    "# Notebook Nivelación Python"
        "\n",
    "<i>$^*$Recomendable abrir en Jupyter Notebook para visualizar colores html.</i>\n"
   ]
  },
  {
   "cell_type": "markdown",
   "metadata": {},
   "source": [
    "## ¿Qué es Python?: \n",
    "> \"Python is an interpreted, [<strong>object-oriented </strong>](https://www.youtube.com/watch?v=pTB0EiLXUC8), [<strong> high-level programming language </strong>](https://www.youtube.com/watch?v=bUWCD45qniA) with [<strong>dynamic semantics</strong>](https://www.youtube.com/watch?v=8aWvIwtnK4Q)\" ([python.org](https://www.python.org/doc/essays/blurb/))\n",
    "\n",
    "<i>$^*$Al hacer click en los conceptos se abre un video que lo explica.</i>\n",
    "\n",
    "- <strong>Lenguaje orientado a objetos</strong>: La aplicación de una operación (método) depende del tipo de objeto (el resultado de sumar es distinto cuando tengo números a cuando tengo palabras ... en Python cuando se suman palabras se concatenan los caracteres p.j.\"<font color = 'red' >hola </font>\" + \"<font color = 'blue' >amigos </font>\" = \"<font color = 'purple' >holaamigos</font>\").\n",
    "\n",
    "- <strong>Programación de alto nivel</strong>: Nivel de abstracción del lenguaje (lenguajes de bajo nivel son más cercanos al \"idioma del computador\" y no son conceptuales/pocas abstracciones). Alto nivel significa  <i>\"high human readable\"</i>.\n",
    "- <strong>Semánticas dinámicas</strong>: El tipo de dato se decide en la etapa de ejecución no en la parte de compilación (si genero <font color = green>x = 5 </font> no debo indicar que <font color = green>x</font>  es un entero ... el programa automáticamente detecta, en su ejecución, qué tipo de dato es <font color = green>x</font>).\n",
    "\n",
    "## ¿Qué es Jupyter Notebook?:\n",
    "> \"The Jupyter Notebook is an open-source web application that allows you to create and share documents that contain live code, equations, visualizations and narrative text.\" ([jupyter.org](https://jupyter.org/))"
   ]
  },
  {
   "cell_type": "markdown",
   "metadata": {},
   "source": [
    "# 1. Jupyter Notebook\n",
    "En Jupyter existen tres tipos de celdas <font color = blue><b>Markdown</b></font> , <font color = orange><b>NBConvert</b></font> y <font color = red><b>Code</b></font>.\n",
    "\n",
    "<img src=\"https://miro.medium.com/max/732/1*Ljx1kldh5qOjx8Wg_hsCrw.png\" width=\"500\">\n",
    "\n",
    "- Las celdas tipo <font color = blue><b>Markdown</b></font> son celdas en las que se puede escribir títulos, fórmulas usando Latex (p.j. $\\lambda_i = \\frac{\\sqrt{4}}{\\infty}$), comentarios y formatearlos usando <font color = purple><b> <u><i>html</i></u></b> &#128540;</font>. Para editar el código de una celda markdown debes hacer doble click sobre ella o seleccionarla y apretar enter. Para verla nuevamente compilada debes seleccionarla y usar \"control/cmd + enter\".\n",
    "\n",
    "- Las celdas tipo <font color = orange><b>NBConvert</b></font> sirven para especificar un lenguaje en particular en una celda (p.j. \"Celda de Python\" o \"Celda de LateX\"), su objetivo es que al exportar el Jupyter (p.j. en html) sean impresas de acuerdo a un lenguaje; no usaremos este tipo de celda.\n",
    "\n",
    "- Las celdas tipo <font color = red><b>Code</b></font> sirven para escribir códigos. Estos también se pueden comentar anteponiendo el símbolo $#$ Antes de un comentario."
   ]
  },
  {
   "cell_type": "code",
   "execution_count": 4,
   "metadata": {},
   "outputs": [
    {
     "name": "stdout",
     "output_type": "stream",
     "text": [
      "El método print() sirve para 'imprimir' texto <-- así\n"
     ]
    }
   ],
   "source": [
    "# Celda tipo Código\n",
    "print(\"El método print() sirve para 'imprimir' texto <-- así\")"
   ]
  },
  {
   "cell_type": "markdown",
   "metadata": {},
   "source": [
    "*******"
   ]
  },
  {
   "cell_type": "markdown",
   "metadata": {},
   "source": [
    "\n",
    "### Shortcuts de Jupyter Notebook\n",
    "Se pueden ver todos los \"atajos con teclas\" (<i>shortcuts</i>) deseleccionando las celdas ($ESC$) y luego presionando la letra $H$.\n",
    "\n",
    "### Hojas de trucos de Markdown\n",
    "\n",
    "- [GitHub de Adam-p](https://github.com/adam-p/markdown-here/wiki/Markdown-Cheatsheet)\n",
    "- [Post en Medium](https://medium.com/ibm-data-science-experience/markdown-for-jupyter-notebooks-cheatsheet-386c05aeebed)"
   ]
  },
  {
   "cell_type": "markdown",
   "metadata": {},
   "source": [
    "**********"
   ]
  },
  {
   "cell_type": "markdown",
   "metadata": {},
   "source": [
    "# 2. Python"
   ]
  },
  {
   "cell_type": "markdown",
   "metadata": {},
   "source": [
    "## Data Types Python: \n",
    "1. **Numéricos (numeric)**\n",
    " - Tipos de Datos Numéricos\n",
    "    - Integers (int): Números enteros positivos o negativos (p.j.  <font color = blue>1</font>)\n",
    "    - Floats (float): Números reales (p.j.  <font color = blue>1.5</font> y  <font color = blue>1.0</font>) \n",
    "    - Números Complejos (complex): Número con componente real y componente imaginaria (p.j.  <font color = blue>5+1j</font> que es equivalente a <font color = blue>5+$\\sqrt{-1}$</font>)\n",
    "2. **Booleanos (boolean)**\n",
    " - Tipos de Datos Booleanos:\n",
    "    - Verdadero ( <font color = green>True</font> o  <font color = green>T</font>)\n",
    "    - Falso ( <font color = green>False</font> o  <font color = green>F</font>)\n",
    "    $^*$Suelen usarse para programar acciones si ocurre cierta afirmación lógica (p.j. si x es negativo, multiplícalo por -1).\n",
    "    \n",
    "3. **Secuencias**\n",
    " - Tipos de secuencias\n",
    "    - String: Es una colección de caracteres que se imprimen entre comillas (p.j. <font color = blue>\"hola\"</font>).\n",
    "    - Listas: Es una colección ordenada de elementos que no necesesariamente son del mismo tipo, son referenciadas utilizando \"$[$ $]$\" (p.j.: <font color = blue>['a'  1  '2b'  3]</font>).\n",
    "    - Tuplas: Es una colección ordenada que no necesariamente son del mismo tipo, son referenciadas utilizando \"$($ $)$\"  (p.j.: <font color = blue>('a', 3)</font>  ). A diferencia de las listas son inmutables, es decir, no pueden ser modificadas directamente.\n",
    "\n",
    "4. **Diccionarios**: Son una colección no ordenada de datos expresados en pares de la forma \"key:value\", son referenciadas utilizando \"$\\{$ $\\}$\"  (p.j.: <font color = blue>{\"Nombre\":\"José\", \"Edad\":\"24\"}</font>  )."
   ]
  }
 ],
 "metadata": {
  "kernelspec": {
   "display_name": "Python 3",
   "language": "python",
   "name": "python3"
  },
  "language_info": {
   "codemirror_mode": {
    "name": "ipython",
    "version": 3
   },
   "file_extension": ".py",
   "mimetype": "text/x-python",
   "name": "python",
   "nbconvert_exporter": "python",
   "pygments_lexer": "ipython3",
   "version": "3.7.4"
  }
 },
 "nbformat": 4,
 "nbformat_minor": 2
}
