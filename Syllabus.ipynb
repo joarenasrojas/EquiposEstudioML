{
 "cells": [
  {
   "cell_type": "markdown",
   "metadata": {},
   "source": [
    "# SYLLABUS EQUIPOS DE ESTUDIO Y EQUIPOS DE TRABAJO:\n",
    "## Este documento tiene por finalidad sistematizar de forma clara las expectativas, objetivos y carga que contemplan los equipos de estudio.\n",
    "***"
   ]
  },
  {
   "cell_type": "markdown",
   "metadata": {},
   "source": [
    "<font color='#000080'>\n",
    "\n",
    "# Invitación\n"
   ]
  },
  {
   "cell_type": "markdown",
   "metadata": {},
   "source": [
    "\n",
    "Gracias a todos por su disposición y motivación, con Cristián (mi primo a.k.a. Boncho)\n",
    "estamos muy motivados porque esto resulte, esperamos que todos podamos aprender un\n",
    "montón, y en el mejor de los casos que surjan ideas innovadoras, contactos,\n",
    "emprendimientos sociales o empresariales y/o trabajos.\n",
    "**Y por su puesto con un poco de alcohol, mucho café y buena onda :) .**\n",
    "\n",
    "-------------------"
   ]
  },
  {
   "cell_type": "markdown",
   "metadata": {},
   "source": [
    "<div class=\"alert alert-block alert-info\"> OBJETIVOS </div>"
   ]
  },
  {
   "cell_type": "markdown",
   "metadata": {},
   "source": [
    "<font color='#000080'>\n",
    "\n",
    "## Objetivo General"
   ]
  },
  {
   "cell_type": "markdown",
   "metadata": {},
   "source": [
    "\n",
    "Aprender a implementar técnicas tradicionales de <font color='#0000FF'><strong>Machine Learning</strong></font> y  <font color='#0000FF'><strong>Deep Learning</strong></font> utilizando las librerías:\n",
    "- Sci Kit Learn: Librería con herramientas de Inteligencia Artificial.\n",
    "- Keras: API de Deep Learning de alto nivel.\n",
    "- TensorFlow: Librería de alta complejidad para cálculos computacionales.\n",
    "\n",
    "### ¿Cómo planeamos lograr esto?\n",
    "> Mediante aprendizaje entre pares siguiendo los contenidos del libro guía.\n",
    "\n",
    "<img src=\"https://images-eu.ssl-images-amazon.com/images/I/51aqYc1QyrL.jpg\">\n",
    "\n",
    "[Youtuber explica por qué crée que este libro es el mejor libro para aprender ML](https://www.youtube.com/watch?v=1RiFIYwuwHM&t=83s)"
   ]
  },
  {
   "cell_type": "markdown",
   "metadata": {},
   "source": [
    "<font color='#000080'>\n",
    "\n",
    "## Objetivos Secundarios\n"
   ]
  },
  {
   "cell_type": "markdown",
   "metadata": {},
   "source": [
    "\n",
    "Planificar e implementar al menos un proyecto académico, social o empresarial utilizando herramientas de inteligencia artificial (revisadas o no en el libro)\n",
    "\n",
    "-----------------------"
   ]
  },
  {
   "cell_type": "markdown",
   "metadata": {},
   "source": [
    " <video src=\"https://media.giphy.com/media/6u1Z9pUakUHG6o7oiV/giphy.mp4\" controls>alternative text</video>"
   ]
  },
  {
   "cell_type": "markdown",
   "metadata": {},
   "source": [
    "<div class=\"alert alert-block alert-info\"> MODALIDAD Y CARGA DE TRABAJO </div>"
   ]
  },
  {
   "cell_type": "markdown",
   "metadata": {},
   "source": [
    "<font color='#000080'>\n",
    "\n",
    "## MODALIDAD DE TRABAJO"
   ]
  },
  {
   "cell_type": "markdown",
   "metadata": {},
   "source": [
    "Como les comentamos, la modalidad de trabajo que pensamos es la siguiente:\n"
   ]
  },
  {
   "cell_type": "markdown",
   "metadata": {},
   "source": [
    "<font color='#000080'>\n",
    "\n",
    "### Reuniones **Días Sábado (10:30 hrs. - 12:00 hrs. aprox.)**\n",
    "\n"
   ]
  },
  {
   "cell_type": "markdown",
   "metadata": {},
   "source": [
    "> Avanzar de acuerdo al libro guía\n",
    "[Hands-On Machine Learning with Scikit-Learn, Keras, and TensorFlow Concepts, Tools, and Techniques to Build Intelligent Systems- ed. 2)](https://www.dropbox.com/sh/z30ay68ie9w3nc7/AAAtfrCSRb0FAwlJW4e3wzTLa?dl=0)\n",
    "\n",
    "$^*$*Lugares a definir semana a semana [la novedad de cambiar\n",
    "el lugar de trabajo hace liberar endorfinas que mejoran productividad], se aceptan\n",
    "sugerencias de lugares y se aprecia proactividad si alguien quiere tomar la iniciativa y\n",
    "conseguirse una sede temporal.*\n"
   ]
  },
  {
   "cell_type": "markdown",
   "metadata": {},
   "source": [
    "<font color='#000080'>\n",
    "\n",
    "### ¿Cómo planeamos avanzar en el libro?\n"
   ]
  },
  {
   "cell_type": "markdown",
   "metadata": {},
   "source": [
    "Para avanzar en el libro utilizaremos la modalidad de trabajo de programas de fellowship como FRILA-FRAMER, en donde cada equipo de estudio será responsable de preparar **material lectivo** relativo al contenido asignado (que contempla a lo más un capítulo del libro).Recomendamos preparar el material en formato de videos, para los que tendrán al menos 2 semanas para preparar.\n"
   ]
  },
  {
   "cell_type": "markdown",
   "metadata": {},
   "source": [
    "<font color='#000080'>\n",
    "\n",
    "### ¿Cómo planeamos llevar a cabo la implementación?\n"
   ]
  },
  {
   "cell_type": "markdown",
   "metadata": {},
   "source": [
    "Mediante la generación de equipos de trabajo (no necesariamente iguales a los equipos de estudio) con intereses en común. En donde se deberá exponer la implementación al final de la primera parte del libro (<font color='#0000FF'><strong>Machine Learning Tradicional</strong></font>) y otra durante la segunda parte (<font color='#0000FF'><strong>Deep Learning</strong></font>)"
   ]
  },
  {
   "cell_type": "markdown",
   "metadata": {},
   "source": [
    "<font color='#000080'>\n",
    "\n",
    "## CARGA DE TRABAJO"
   ]
  },
  {
   "cell_type": "markdown",
   "metadata": {},
   "source": [
    "La carga semanal de trabajo será variada:\n",
    "\n",
    "|Tareas|Horas Estimadas por Tarea|\n",
    "|------|------|\n",
    "| Lectura del capítulo | 1-2 horas |\n",
    "| Aplicación del código | 1 hora |\n",
    "| Reunión | 1.5-2 horas |\n",
    "| $^*$Preparación video | 1.5 horas |\n",
    "| **TOTAL ESTIMADO** | 4 -7 horas |\n",
    "\n",
    "$^*$La preparación del video lectivo sólo sera una vez cada al menos 4 semanas, por esto el intervalo total es entre 4 y 7 horas."
   ]
  },
  {
   "cell_type": "markdown",
   "metadata": {},
   "source": [
    "<div class=\"alert alert-block alert-info\"> PREPARACIÓN MATERIAL DE ESTUDIO Y MEET UPS </div>"
   ]
  },
  {
   "cell_type": "markdown",
   "metadata": {},
   "source": [
    "<font color='#000080'>\n",
    "\n",
    "## PREPARACIÓN MATERIAL GRUPOS DE ESTUDIO\n"
   ]
  },
  {
   "cell_type": "markdown",
   "metadata": {},
   "source": [
    "Para lograr nuestros objetivos, y aprovechar al máximo las reuniones, es necesario que se asista a la reunión correspondiente a la fecha con el capítulo leído (al menos superficilamente) ya que en la reunión se hablará de manera profunda de este contenido. En cada reunión, el grupo de estudio que está encargado del capítulo en cuenstión deberá:\n",
    "1. Exponer la teoría del capítulo (idealmente en el formato de video)\n",
    "2. Explicar el código de un capítulo (idelamente video Jupyter + audio explicativo)\n",
    "3. En la reunión de ese sábado los demás grupos verán los videos y el grupo de estudio deberá responder consultas."
   ]
  },
  {
   "cell_type": "markdown",
   "metadata": {},
   "source": [
    "<font color='#000080'>\n",
    "\n",
    "## MEET UPS"
   ]
  },
  {
   "cell_type": "markdown",
   "metadata": {},
   "source": [
    "En el mediano plazo (marzo) planeamos realizar meet-ups con personas de otros rubros en donde expongan fundadores de start-ups tecnológicos y expertos en Data Science para conocer las herramientas que se utilizan actualmente en los equipos de Data Scientists; y además cuáles son las que se exigen actualmente en el mercado laboral chileno."
   ]
  },
  {
   "cell_type": "markdown",
   "metadata": {},
   "source": [
    "<div class=\"alert alert-block alert-info\"> CALENDARIO Y MATERIALES</div>"
   ]
  },
  {
   "cell_type": "markdown",
   "metadata": {},
   "source": [
    "<font color='#000080'>\n",
    "\n",
    "## CALENDARIO"
   ]
  },
  {
   "cell_type": "markdown",
   "metadata": {},
   "source": [
    "El calendario que se expone a continuación contempla la primera parte del libro, y está sujeto a cambios de acuerdo al ritmo en que avancemos."
   ]
  },
  {
   "cell_type": "markdown",
   "metadata": {},
   "source": [
    "|Fecha Sábado|Tarea|\n",
    "|------|------|\n",
    "| Sábado 25 de enero | Presentación y Bienvenida + Cap.1 |\n",
    "| Sábado 31 de enero | Python y Jupyter Notebook Basics (Numpy) |\n",
    "| Sábado 7 de febrero| Pandas y Cap.2 |\n",
    "| Sábado 15 de febrero| Cap. 3 - Classification |\n",
    "| Sábado 22 de febrero| Cap. 4 - Training Models|\n",
    "| Sábado 29 de febrero| Cap. 5 - SVM |\n",
    "| Sábado 7 de marzo| Cap. 6 - Decision Trees |\n",
    "| Sábado 14 de marzo| Cap. 7 - Ensemble Learning and Random Forests |\n",
    "| Sábado 21 de marzo| Cap. 8 - Dimensionality Reduction |\n",
    "| Sábado 28 de marzo| Cap. 9 - Unsupervised Learning Techniques |\n"
   ]
  },
  {
   "cell_type": "markdown",
   "metadata": {},
   "source": [
    "<font color='#000080'>\n",
    "\n",
    "## MATERIALES\n",
    "\n"
   ]
  },
  {
   "cell_type": "markdown",
   "metadata": {},
   "source": [
    "- Libro Guía: [Hands-On Machine Learning with Scikit-Learn, Keras, and TensorFlow Concepts, Tools, and Techniques to Build Intelligent Systems- ed. 2)](https://www.dropbox.com/sh/z30ay68ie9w3nc7/AAAtfrCSRb0FAwlJW4e3wzTLa?dl=0)\n",
    "- Git Hub Libro Guía: [Códigos](https://www.dropbox.com/sh/1nrmelvcu9xquur/AAC7SDCfHObIfPXS7ORds6rsa?dl=0)\n",
    "- Tutorial para grabar Pantalla y Audio Micrófono: [Programa VLC](https://nex.be/record-audio-video-vlc/)"
   ]
  },
  {
   "cell_type": "markdown",
   "metadata": {},
   "source": [
    "### Material Complementario\n",
    "- [Curso Python para Data Science](https://www.coursera.org/learn/python-data-analysis?recoOrder=5&utm_medium=email&utm_source=recommendations&utm_campaign=recommendationsEmail~recs_email~2020-01-27)\n",
    "- [Canal de Youtube DotCSV](https://www.youtube.com/channel/UCy5znSnfMsDwaLlROnZ7Qbg/videos)\n",
    "- [Curso de Stanford sobre CNN para Computer Vision](https://www.youtube.com/watch?v=vT1JzLTH4G4&list=PL3FW7Lu3i5JvHM8ljYj-zLfQRF3EO8sYv) Útil para Deep Learning.\n",
    "- [Curso Machine Learning avanzado de Stanford Andrew Ng](https://see.stanford.edu/Course/CS229) Andrew Ng es un gran exponente en el mundo de ML.\n",
    "- [Curso Machine Learning bàsico de Stanford Andrew Ng](https://www.coursera.org/learn/machine-learning) Este curso es un clásico para aprender ML, el único detalle es que usan Octave (similar a Matlab pero open source).\n",
    "- [Curso Beauchef Análisis de Datos](https://www.dropbox.com/sh/4yf4xyv7usi9lto/AAA0X36uyIykUTdFT0U5LK62a?dl=0) Buenas diapositivas y códigos en R\n",
    "- [Curso Beauchef Minería de Datos](https://www.dropbox.com/sh/2a2tayfo1qbkacq/AAArOgUwFP4D37Yfluy2WE-5a?dl=0) Buenas aplicaciones y labortarios en Python"
   ]
  },
  {
   "cell_type": "markdown",
   "metadata": {},
   "source": [
    "<div class=\"alert alert-block alert-info\"> CIERRE Y PROPOSICIÓN</div>"
   ]
  },
  {
   "cell_type": "markdown",
   "metadata": {},
   "source": [
    "Chiquillos este grupo de estudio lo hacemos cada uno de nosotros, aprender estas metodologías es totalmente factible con el programa planificado de este grupo de estudio. El nivel de manejo y profundidad que alcancemos en cada técnica depende en gran parte del material preparado por cada grupo, por lo que es primordial que sea material hecho a conciencia.\n",
    "****\n",
    "Aquí les dejo un par de canales de **inspiración** sobre cómo explicar algoritmos:\n",
    "- Ejemplo Video explicativo sobre ML\n",
    "    - [DotCSV](https://www.youtube.com/watch?v=7-6X3DTt3R8&t=550s)\n",
    "    - [Jaime Altozano](https://www.youtube.com/watch?v=OE4gcdjFbmc&t=271s)\n",
    "\n",
    "Aquí les dejo un par de videos para tener un punto de referencia de cómo se vería un video de código (para fijar un **estándar mínimo**):\n",
    "- Ejemplo Video de análisis de código\n",
    "    - [DotCSV](https://www.youtube.com/watch?v=w2RJ1D6kz-o)\n",
    "    - [CodingEnterpreneurs](https://www.youtube.com/watch?v=PmZ29Vta7Vc)\n",
    "****\n"
   ]
  },
  {
   "cell_type": "markdown",
   "metadata": {},
   "source": [
    "Los dejo invitados para que aprendamos y lo pasemos bien. No se olviden de ponerse un <font color='blue'> <strong>nombre</strong></font> en cada equipo de estudio :) .\n",
    "\n",
    "<strong>Un abrazo  y a aprender!!!</strong>\n",
    "\n",
    "José Arenas R."
   ]
  },
  {
   "cell_type": "markdown",
   "metadata": {},
   "source": [
    "<video src=\"https://media.giphy.com/media/10UUe8ZsLnaqwo/giphy.mp4\" controls>alternative text</video>"
   ]
  }
 ],
 "metadata": {
  "kernelspec": {
   "display_name": "Python 3",
   "language": "python",
   "name": "python3"
  },
  "language_info": {
   "codemirror_mode": {
    "name": "ipython",
    "version": 3
   },
   "file_extension": ".py",
   "mimetype": "text/x-python",
   "name": "python",
   "nbconvert_exporter": "python",
   "pygments_lexer": "ipython3",
   "version": "3.7.4"
  }
 },
 "nbformat": 4,
 "nbformat_minor": 2
}
